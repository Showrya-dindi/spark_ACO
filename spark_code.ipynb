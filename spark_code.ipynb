{
  "cells": [
    {
      "cell_type": "code",
      "execution_count": 2,
      "metadata": {
        "id": "nsuHC2CjGYp9"
      },
      "outputs": [],
      "source": [
        "from pyspark.sql import SparkSession\n",
        "from pyspark.storagelevel import StorageLevel\n",
        "from pyspark.sql.functions import udf, lit, explode, collect_list, col\n",
        "from pyspark.sql.functions import sum\n",
        "from pyspark.sql.functions import max\n",
        "from pyspark.sql.functions import rand\n",
        "from pyspark.sql.types import StructType, StructField, StringType, IntegerType, DoubleType, ArrayType\n",
        "import pyspark.sql.functions as f\n",
        "import random\n",
        "import math"
      ]
    },
    {
      "cell_type": "code",
      "execution_count": 3,
      "metadata": {
        "id": "EnHpwDOeGZ4C"
      },
      "outputs": [],
      "source": [
        "spark = SparkSession.builder.appName(\"ACO\").getOrCreate()"
      ]
    },
    {
      "cell_type": "code",
      "execution_count": 4,
      "metadata": {
        "colab": {
          "base_uri": "https://localhost:8080/"
        },
        "id": "ZmWCPfJAGaNK",
        "outputId": "f36730ac-df3c-4fa5-9f5a-cdcd4a9c83d2"
      },
      "outputs": [
        {
          "output_type": "stream",
          "name": "stdout",
          "text": [
            "+-------+---+---+\n",
            "|node_id|  x|  y|\n",
            "+-------+---+---+\n",
            "|      A|  1|  2|\n",
            "|      B|  1|  5|\n",
            "|      C|  6|  4|\n",
            "|      D|  5|  6|\n",
            "|      E|  2|  5|\n",
            "|      F|  4|  6|\n",
            "|      G|  2|  1|\n",
            "|      H|  0|  4|\n",
            "|      I|  3|  0|\n",
            "+-------+---+---+\n",
            "\n"
          ]
        }
      ],
      "source": [
        "#Reading node location data\n",
        "nodes = spark.read.format('csv').option('header','true').option('inferSchema','true').load('/content/drive/MyDrive/ACO.csv')\n",
        "no_of_nodes=nodes.count()\n",
        "nodes.show()"
      ]
    },
    {
      "cell_type": "code",
      "execution_count": 5,
      "metadata": {
        "colab": {
          "base_uri": "https://localhost:8080/"
        },
        "id": "ap2E_YmkHLKw",
        "outputId": "7f21b44c-0963-4077-8282-09fee8c47c76"
      },
      "outputs": [
        {
          "output_type": "stream",
          "name": "stdout",
          "text": [
            "+------------+----------+------------------+\n",
            "|from_node_id|to_node_id|          distance|\n",
            "+------------+----------+------------------+\n",
            "|           A|         B|               3.0|\n",
            "|           A|         C| 5.385164807134504|\n",
            "|           A|         D| 5.656854249492381|\n",
            "|           A|         E|3.1622776601683795|\n",
            "|           A|         F|               5.0|\n",
            "|           A|         G|1.4142135623730951|\n",
            "|           A|         H|  2.23606797749979|\n",
            "|           A|         I|2.8284271247461903|\n",
            "|           B|         A|               3.0|\n",
            "|           B|         C|5.0990195135927845|\n",
            "|           B|         D| 4.123105625617661|\n",
            "|           B|         E|               1.0|\n",
            "|           B|         F|3.1622776601683795|\n",
            "|           B|         G| 4.123105625617661|\n",
            "|           B|         H|1.4142135623730951|\n",
            "|           B|         I| 5.385164807134504|\n",
            "|           C|         A| 5.385164807134504|\n",
            "|           C|         B|5.0990195135927845|\n",
            "|           C|         D|  2.23606797749979|\n",
            "|           C|         E| 4.123105625617661|\n",
            "+------------+----------+------------------+\n",
            "only showing top 20 rows\n",
            "\n"
          ]
        }
      ],
      "source": [
        "#Creating edges dataframe having edge length information\n",
        "edges = nodes.selectExpr('node_id as from_node_id', 'x as from_x', 'y as from_y').crossJoin(nodes.selectExpr('node_id as to_node_id', 'x as to_x', 'y as to_y'))\n",
        "edges=edges.where(\"from_node_id <> to_node_id\")\n",
        "edges=edges.withColumn('distance',((col('from_x')-col('to_x'))**2+(col('from_y')-col('to_y'))**2)**0.5).select('from_node_id','to_node_id','distance')\n",
        "edges.show()"
      ]
    },
    {
      "cell_type": "code",
      "execution_count": 6,
      "metadata": {
        "id": "JwMSyIr_HnCp"
      },
      "outputs": [],
      "source": [
        "#Setting parameters required for the algorithm \n",
        "num_ants = 10\n",
        "evaporation_rate = 0.5\n",
        "alpha = 1\n",
        "beta = 2\n",
        "q = 3\n",
        "initial_pheromone = 0.1\n",
        "max_iterations = 5\n"
      ]
    },
    {
      "cell_type": "code",
      "execution_count": 8,
      "metadata": {
        "colab": {
          "base_uri": "https://localhost:8080/"
        },
        "id": "vVVWrtTrJiw6",
        "outputId": "4382f98d-3251-4385-a9ff-ab7c880a171f"
      },
      "outputs": [
        {
          "output_type": "stream",
          "name": "stdout",
          "text": [
            "{'ant_id': 'a1', 'route': ['BH', 'HG', 'GI', 'IA', 'AE', 'EF', 'FD', 'DC', 'CB'], 'length': 22.995838653717115}\n",
            "{'ant_id': 'a7', 'route': ['HA', 'AG', 'GI', 'IC', 'CD', 'DF', 'FE', 'EB', 'BH'], 'length': 17.950844619618653}\n",
            "{'ant_id': 'a4', 'route': ['EB', 'BH', 'HA', 'AG', 'GI', 'IC', 'CD', 'DF', 'FE'], 'length': 17.950844619618653}\n",
            "{'ant_id': 'a4', 'route': ['EB', 'BH', 'HA', 'AG', 'GI', 'IC', 'CD', 'DF', 'FE'], 'length': 17.950844619618653}\n",
            "{'ant_id': 'a10', 'route': ['IG', 'GA', 'AH', 'HB', 'BE', 'EF', 'FD', 'DC', 'CI'], 'length': 17.950844619618653}\n"
          ]
        }
      ],
      "source": [
        "#Setting initial phermone level\n",
        "edges = edges.withColumn('pheromone',lit(initial_pheromone))\n",
        "\n",
        "for i in range(max_iterations):\n",
        "  #Creating probability and edge_id columns\n",
        "  edges = edges.withColumn(\"pheromone_distance\", (col(\"pheromone\") ** alpha) * ((1 / col(\"distance\")) ** beta))\n",
        "  edges = edges.withColumn(\"probability\",col('pheromone_distance')/edges.agg(sum('pheromone_distance')).collect()[0][0])\n",
        "  edges = edges.drop('pheromone_distance').withColumn('edge_id',f.concat('from_node_id','to_node_id'))\n",
        "  \n",
        "  #Caching the dataframe in memory for better performance\n",
        "  edges.persist(StorageLevel.MEMORY_ONLY)\n",
        "  \n",
        "  #Creating ants dataframe to record the routes travelled by each ant\n",
        "  ants_schema=StructType([StructField('ant_id',StringType(),False),StructField('route',ArrayType(StringType(),False),False)])\n",
        "  ants=spark.createDataFrame([],schema=ants_schema)\n",
        "  ants.createOrReplaceTempView('ants')\n",
        "  \n",
        "  \n",
        "  \n",
        "  random_nodes = nodes.sample(True,float(num_ants/no_of_nodes)+1,seed=42).limit(num_ants).collect()\n",
        "  for i in range(1,num_ants+1):\n",
        "    #Intialising ant_id and current_route of the ant\n",
        "    ant_id=f\"a{i}\" \n",
        "    current_route=[random_nodes[i-1].asDict()['node_id']]\n",
        "    #Loop to extend the current_route to cover all nodes\n",
        "    while len(current_route) < no_of_nodes:\n",
        "      prev_node=current_route[-1][-1]\n",
        "      #Conditions to select next node\n",
        "      condition_string2 = ' and '.join([f\"to_node_id <> '{route[-1]}'\"for route in current_route]) \n",
        "      condition_string1 = f\"from_node_id = '{prev_node}'\"\n",
        "      #Selecting the next node with the probability distribution and updating current_route\n",
        "      next_node=edges.where(f''' {condition_string1} and {condition_string2}''').withColumn('select_path',rand()**(1/col('probability'))).orderBy(col('select_path').desc()).first()['to_node_id']\n",
        "      current_route.append(prev_node+next_node)\n",
        "    current_route=current_route[1:]+[next_node+current_route[0]]\n",
        "    #Updating ants dataframe\n",
        "    ants = ants.union(spark.createDataFrame([(ant_id, current_route)], ants_schema))\n",
        "  \n",
        "  #To find the length of route taken by each ant\n",
        "  inter=ants.select('ant_id',explode('route').alias('edge_id'))\n",
        "  len_route=inter.join(edges,['edge_id'],'left').groupBy('ant_id').agg(f.sum('distance').alias('length')).select('ant_id','length')\n",
        "  \n",
        "  #Printing the best route for each iteration \n",
        "  final=ants.join(len_route,['ant_id'],'inner').orderBy('length').limit(1).collect()[0].asDict()\n",
        "  print(final)\n",
        "  \n",
        "  #Finding the no. of times an edge is chosen by an ant \n",
        "  edge_frequency=inter.select('edge_id').groupBy('edge_id').agg(f.count('edge_id').alias('freq'))\n",
        "  edges_temp=edges.join(edge_frequency,['edge_id'],'left').fillna(value=0,subset=['freq'])\n",
        "  \n",
        "  #Updating phermone level after each iteration \n",
        "  edges=edges_temp.withColumn('pheromone',col('pheromone')+(1-evaporation_rate)*col('pheromone')+col('freq')*q/col('distance')).drop('freq')\n",
        "  "
      ]
    }
  ],
  "metadata": {
    "colab": {
      "provenance": []
    },
    "kernelspec": {
      "display_name": "Python 3",
      "name": "python3"
    },
    "language_info": {
      "name": "python"
    }
  },
  "nbformat": 4,
  "nbformat_minor": 0
}